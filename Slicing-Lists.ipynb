{
 "cells": [
  {
   "cell_type": "code",
   "execution_count": 8,
   "id": "b49948fd",
   "metadata": {},
   "outputs": [],
   "source": [
    "# The nuts list below contains 7 strings\n",
    "nuts = [\"Almonds\", \"Cashews\", \"Hazelnuts\", \"Brazil\", \"Macadamia\", \"Pecan\", \"Pistachio\"]"
   ]
  },
  {
   "cell_type": "code",
   "execution_count": 11,
   "id": "d60a29e9",
   "metadata": {},
   "outputs": [
    {
     "data": {
      "text/plain": [
       "7"
      ]
     },
     "execution_count": 11,
     "metadata": {},
     "output_type": "execute_result"
    }
   ],
   "source": [
    "len(nuts)"
   ]
  },
  {
   "cell_type": "code",
   "execution_count": 13,
   "id": "0608252e",
   "metadata": {},
   "outputs": [
    {
     "data": {
      "text/plain": [
       "'Brazil'"
      ]
     },
     "execution_count": 13,
     "metadata": {},
     "output_type": "execute_result"
    }
   ],
   "source": [
    "nuts[1]\n",
    "nuts[3]"
   ]
  },
  {
   "cell_type": "code",
   "execution_count": 15,
   "id": "742394ee",
   "metadata": {},
   "outputs": [
    {
     "data": {
      "text/plain": [
       "'Macadamia'"
      ]
     },
     "execution_count": 15,
     "metadata": {},
     "output_type": "execute_result"
    }
   ],
   "source": [
    "nuts[-1]\n",
    "nuts[-3]"
   ]
  },
  {
   "cell_type": "code",
   "execution_count": 9,
   "id": "aa041062",
   "metadata": {},
   "outputs": [],
   "source": [
    "# Extract the \"Cashews\" string by indexing into the \"nuts\" list above\n",
    "# Assign the value to the variable below\n",
    "cashews = 1\n",
    "brazil = 3\n",
    "pistachio = 6"
   ]
  },
  {
   "cell_type": "code",
   "execution_count": 17,
   "id": "aeab647b",
   "metadata": {},
   "outputs": [
    {
     "data": {
      "text/plain": [
       "['Cashews']"
      ]
     },
     "execution_count": 17,
     "metadata": {},
     "output_type": "execute_result"
    }
   ],
   "source": [
    "# Slices. First number is inclusive and the second number is exclusive.\n",
    "nuts[1:2]"
   ]
  },
  {
   "cell_type": "code",
   "execution_count": 21,
   "id": "31d4b606",
   "metadata": {},
   "outputs": [
    {
     "data": {
      "text/plain": [
       "'Pecan'"
      ]
     },
     "execution_count": 21,
     "metadata": {},
     "output_type": "execute_result"
    }
   ],
   "source": [
    "# Extract the \"Pecan\" string by indexing into the \"nuts\" list above\n",
    "# Assign the value to the variable below\n",
    "# Negative number works backwords from the end.\n",
    "pecan = 5\n",
    "nuts[-2]"
   ]
  },
  {
   "cell_type": "code",
   "execution_count": 24,
   "id": "897d0864",
   "metadata": {},
   "outputs": [
    {
     "data": {
      "text/plain": [
       "['Pistachio']"
      ]
     },
     "execution_count": 24,
     "metadata": {},
     "output_type": "execute_result"
    }
   ],
   "source": [
    "# Extract the \"Pistachio\" string by indexing into the \"nuts\" list above\n",
    "# Assign the value to the variable below\n",
    "# No number after goes includes everything until the end\n",
    "pistachio = 6\n",
    "nuts[6:]"
   ]
  },
  {
   "cell_type": "code",
   "execution_count": 27,
   "id": "dd6c9405",
   "metadata": {},
   "outputs": [
    {
     "data": {
      "text/plain": [
       "['Almonds']"
      ]
     },
     "execution_count": 27,
     "metadata": {},
     "output_type": "execute_result"
    }
   ],
   "source": [
    "# Extract the \"Almonds\" string by indexing into the \"nuts\" list above\n",
    "# Assign the value to the variable below\n",
    "# No number before the colon is everything from the beginning\n",
    "almonds = 0\n",
    "nuts[:1]"
   ]
  },
  {
   "cell_type": "code",
   "execution_count": 28,
   "id": "1b50ea15",
   "metadata": {},
   "outputs": [
    {
     "data": {
      "text/plain": [
       "['Almonds',\n",
       " 'Cashews',\n",
       " 'Hazelnuts',\n",
       " 'Brazil',\n",
       " 'Macadamia',\n",
       " 'Pecan',\n",
       " 'Pistachio']"
      ]
     },
     "execution_count": 28,
     "metadata": {},
     "output_type": "execute_result"
    }
   ],
   "source": [
    "# No numbers : is everything.\n",
    "nuts[:]"
   ]
  },
  {
   "cell_type": "code",
   "execution_count": 29,
   "id": "4c417ed5",
   "metadata": {},
   "outputs": [
    {
     "data": {
      "text/plain": [
       "['Cashews', 'Hazelnuts']"
      ]
     },
     "execution_count": 29,
     "metadata": {},
     "output_type": "execute_result"
    }
   ],
   "source": [
    "# Combine positive and negative to make a slice. \n",
    "nuts[1:-4]"
   ]
  },
  {
   "cell_type": "code",
   "execution_count": 33,
   "id": "6b57c510",
   "metadata": {},
   "outputs": [
    {
     "data": {
      "text/plain": [
       "['Brazil', 'Macadamia', 'Pecan', 'Pistachio']"
      ]
     },
     "execution_count": 33,
     "metadata": {},
     "output_type": "execute_result"
    }
   ],
   "source": [
    "# These all produce the same results\n",
    "nuts[3:100]\n",
    "nuts[3:]\n",
    "nuts[3:7]"
   ]
  },
  {
   "cell_type": "code",
   "execution_count": null,
   "id": "f7b44cb8",
   "metadata": {},
   "outputs": [],
   "source": []
  }
 ],
 "metadata": {
  "kernelspec": {
   "display_name": "Python 3 (ipykernel)",
   "language": "python",
   "name": "python3"
  },
  "language_info": {
   "codemirror_mode": {
    "name": "ipython",
    "version": 3
   },
   "file_extension": ".py",
   "mimetype": "text/x-python",
   "name": "python",
   "nbconvert_exporter": "python",
   "pygments_lexer": "ipython3",
   "version": "3.11.5"
  }
 },
 "nbformat": 4,
 "nbformat_minor": 5
}
